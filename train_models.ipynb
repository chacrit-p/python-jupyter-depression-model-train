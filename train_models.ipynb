{
 "cells": [
  {
   "cell_type": "code",
   "execution_count": null,
   "id": "324d2a67-1cec-447f-a050-54bcc6353363",
   "metadata": {},
   "outputs": [],
   "source": [
    "import pandas as pd\n",
    "dataset_path = \"student_depression_dataset.csv\""
   ]
  },
  {
   "cell_type": "code",
   "execution_count": null,
   "id": "7d082483",
   "metadata": {},
   "outputs": [],
   "source": [
    "df = pd.read_csv(dataset_path)"
   ]
  },
  {
   "cell_type": "code",
   "execution_count": null,
   "id": "4c20be61-d87f-46dc-8b8a-def5358d4cc9",
   "metadata": {},
   "outputs": [],
   "source": [
    "print(df.isnull().sum())"
   ]
  },
  {
   "cell_type": "code",
   "execution_count": 4,
   "id": "0953af7a-e9ad-4aa5-8d06-ce61c86be816",
   "metadata": {},
   "outputs": [],
   "source": [
    "df[\"Gender\"] = df[\"Gender\"].map({\"Male\": 0, \"Female\": 1})"
   ]
  },
  {
   "cell_type": "code",
   "execution_count": 5,
   "id": "a44773cf",
   "metadata": {},
   "outputs": [],
   "source": [
    "# print(df['Profession'].unique())\n",
    "# ['Student' 'Civil Engineer' 'Architect' 'UX/UI Designer'\n",
    "# 'Digital Marketer' 'Content Writer' 'Educational Consultant' 'Teacher'\n",
    "# 'Manager' 'Chef' 'Doctor' 'Lawyer' 'Entrepreneur' 'Pharmacist']\n",
    "\n",
    "df[\"Profession\"] = df[\"Profession\"].map(\n",
    "    {\n",
    "        \"Student\": 0,\n",
    "        \"Civil Engineer\": 1,\n",
    "        \"Architect\": 2,\n",
    "        \"UX/UI Designer\": 3,\n",
    "        \"Digital Marketer\": 4,\n",
    "        \"Content Writer\": 5,\n",
    "        \"Educational Consultant\": 6,\n",
    "        \"Teacher\": 7,\n",
    "        \"Manager\": 8,\n",
    "        \"Chef\": 9,\n",
    "        \"Doctor\": 10,\n",
    "        \"Lawyer\": 11,\n",
    "        \"Entrepreneur\": 12,\n",
    "        \"Pharmacist\": 13,\n",
    "    }\n",
    ")"
   ]
  },
  {
   "cell_type": "code",
   "execution_count": 6,
   "id": "b80471f6",
   "metadata": {},
   "outputs": [],
   "source": [
    "# print(df['Sleep Duration'].unique())\n",
    "# ['5-6 hours' 'Less than 5 hours' '7-8 hours' 'More than 8 hours' 'Others']\n",
    "\n",
    "df[\"Sleep Duration\"] = df[\"Sleep Duration\"].map(\n",
    "    {\n",
    "        \"5-6 hours\": 0,\n",
    "        \"Less than 5 hours\": 1,\n",
    "        \"7-8 hours\": 2,\n",
    "        \"More than 8 hours\": 3,\n",
    "        \"Others\": 4,\n",
    "    }\n",
    ")"
   ]
  },
  {
   "cell_type": "code",
   "execution_count": 7,
   "id": "afd4ea60",
   "metadata": {},
   "outputs": [],
   "source": [
    "# print(df['Dietary Habits'].unique())\n",
    "# ['Healthy' 'Moderate' 'Unhealthy' 'Others']\n",
    "\n",
    "df[\"Dietary Habits\"] = df[\"Dietary Habits\"].map(\n",
    "    {\n",
    "        \"Healthy\": 0,\n",
    "        \"Moderate\": 1,\n",
    "        \"Unhealthy\": 2,\n",
    "        \"Others\": 3,\n",
    "    }\n",
    ")"
   ]
  },
  {
   "cell_type": "code",
   "execution_count": 8,
   "id": "5abfd36d",
   "metadata": {},
   "outputs": [],
   "source": [
    "# print(df['Degree'].unique())\n",
    "# ['B.Pharm' 'BSc' 'BA' 'BCA' 'M.Tech' 'PhD' 'Class 12' 'B.Ed' 'LLB' 'BE'\n",
    "# 'M.Ed' 'MSc' 'BHM' 'M.Pharm' 'MCA' 'MA' 'B.Com' 'MD' 'MBA' 'MBBS' 'M.Com'\n",
    "# 'B.Arch' 'LLM' 'B.Tech' 'BBA' 'ME' 'MHM' 'Others']\n",
    "\n",
    "df[\"Degree\"] = df[\"Degree\"].map(\n",
    "    {\n",
    "        \"B.Pharm\": 0,\n",
    "        \"BSc\": 1,\n",
    "        \"BA\": 2,\n",
    "        \"BCA\": 3,\n",
    "        \"M.Tech\": 4,\n",
    "        \"PhD\": 5,\n",
    "        \"Class 12\": 6,\n",
    "        \"B.Ed\": 7,\n",
    "        \"LLB\": 8,\n",
    "        \"BE\": 9,\n",
    "        \"M.Ed\": 10,\n",
    "        \"MSc\": 11,\n",
    "        \"BHM\": 12,\n",
    "        \"M.Pharm\": 13,\n",
    "        \"MCA\": 14,\n",
    "        \"MA\": 15,\n",
    "        \"B.Com\": 16,\n",
    "        \"MD\": 17,\n",
    "        \"MBA\": 18,\n",
    "        \"MBBS\": 19,\n",
    "        \"M.Com\": 20,\n",
    "        \"B.Arch\": 21,\n",
    "        \"LLM\": 22,\n",
    "        \"B.Tech\": 23,\n",
    "        \"BBA\": 24,\n",
    "        \"ME\": 25,\n",
    "        \"MHM\": 26,\n",
    "        \"Others\": 27,\n",
    "    }\n",
    ")"
   ]
  },
  {
   "cell_type": "code",
   "execution_count": 9,
   "id": "f0554514",
   "metadata": {},
   "outputs": [],
   "source": [
    "df[\"Have you ever had suicidal thoughts ?\"] = df[\n",
    "    \"Have you ever had suicidal thoughts ?\"\n",
    "].map({\"No\": 0, \"Yes\": 1})"
   ]
  },
  {
   "cell_type": "code",
   "execution_count": 10,
   "id": "fc04ce9d",
   "metadata": {},
   "outputs": [],
   "source": [
    "df[\"Family History of Mental Illness\"] = df[\"Family History of Mental Illness\"].map(\n",
    "    {\"No\": 0, \"Yes\": 1}\n",
    ")"
   ]
  },
  {
   "cell_type": "code",
   "execution_count": 11,
   "id": "2cf3fb18",
   "metadata": {},
   "outputs": [],
   "source": [
    "df[\"Financial Stress\"] = df[\"Financial Stress\"].fillna(df[\"Financial Stress\"].mean())"
   ]
  },
  {
   "cell_type": "code",
   "execution_count": 12,
   "id": "3e636b7a",
   "metadata": {},
   "outputs": [
    {
     "name": "stdout",
     "output_type": "stream",
     "text": [
      "id                                       0\n",
      "Gender                                   0\n",
      "Age                                      0\n",
      "City                                     0\n",
      "Profession                               0\n",
      "Academic Pressure                        0\n",
      "Work Pressure                            0\n",
      "CGPA                                     0\n",
      "Study Satisfaction                       0\n",
      "Job Satisfaction                         0\n",
      "Sleep Duration                           0\n",
      "Dietary Habits                           0\n",
      "Degree                                   0\n",
      "Have you ever had suicidal thoughts ?    0\n",
      "Work/Study Hours                         0\n",
      "Financial Stress                         0\n",
      "Family History of Mental Illness         0\n",
      "Depression                               0\n",
      "dtype: int64\n"
     ]
    }
   ],
   "source": [
    "print(df.isnull().sum())"
   ]
  },
  {
   "cell_type": "code",
   "execution_count": null,
   "id": "4424283f",
   "metadata": {},
   "outputs": [
    {
     "name": "stdout",
     "output_type": "stream",
     "text": [
      "Index(['Gender', 'Age', 'Profession', 'Academic Pressure', 'Work Pressure',\n",
      "       'CGPA', 'Study Satisfaction', 'Job Satisfaction', 'Sleep Duration',\n",
      "       'Dietary Habits', 'Degree', 'Have you ever had suicidal thoughts ?',\n",
      "       'Work/Study Hours', 'Financial Stress',\n",
      "       'Family History of Mental Illness'],\n",
      "      dtype='object')\n"
     ]
    }
   ],
   "source": [
    "# ['Gender', 'Age', 'Profession', 'Academic Pressure', 'Work Pressure',\n",
    "# 'CGPA', 'Study Satisfaction', 'Job Satisfaction', 'Sleep Duration',\n",
    "# 'Dietary Habits', 'Degree', 'Have you ever had suicidal thoughts ?',\n",
    "# 'Work/Study Hours', 'Financial Stress',\n",
    "# 'Family History of Mental Illness'],\n",
    "\n",
    "\n",
    "X = df.drop([\"id\", \"City\", \"Depression\"], axis=1)\n",
    "y = df[\"Depression\"]\n",
    "\n",
    "print(df.drop([\"id\", \"City\", \"Depression\"], axis=1).columns)"
   ]
  },
  {
   "cell_type": "code",
   "execution_count": null,
   "id": "65652d09",
   "metadata": {},
   "outputs": [],
   "source": [
    "from sklearn.model_selection import train_test_split\n",
    "\n",
    "X_train, X_test, y_train, y_test = train_test_split(\n",
    "    X, y, test_size=0.2, random_state=42\n",
    ")"
   ]
  },
  {
   "cell_type": "code",
   "execution_count": null,
   "id": "e61e2439",
   "metadata": {},
   "outputs": [],
   "source": [
    "from sklearn.linear_model import LogisticRegression\n",
    "from sklearn.neighbors import KNeighborsClassifier\n",
    "from sklearn.tree import DecisionTreeClassifier\n",
    "from sklearn.ensemble import (\n",
    "    GradientBoostingClassifier,\n",
    "    RandomForestClassifier,\n",
    "    AdaBoostClassifier,\n",
    "    VotingClassifier,\n",
    ")"
   ]
  },
  {
   "cell_type": "code",
   "execution_count": 16,
   "id": "b6fb99e0",
   "metadata": {},
   "outputs": [],
   "source": [
    "# from sklearn.model_selection import GridSearchCV\n",
    "\n",
    "# param_grid_lr = {'C': [0.1, 1, 10], 'penalty': ['l1', 'l2'], 'solver': ['liblinear']}\n",
    "# param_grid_knn = {'n_neighbors': [3, 5, 7, 10]}\n",
    "# param_grid_dt = {'max_depth': [3, 5, 10, None], 'min_samples_split': [2, 5, 10]}\n",
    "# param_grid_gb = {'learning_rate': [0.01, 0.1, 1], 'n_estimators': [50, 100, 200]}\n",
    "# param_grid_rf = {'n_estimators': [50, 100, 200], 'max_depth': [None, 10, 20]}\n",
    "# param_grid_ab = {'n_estimators': [50, 100, 200], 'learning_rate': [0.1, 1]}\n",
    "\n",
    "# grid_search_lr = GridSearchCV(LogisticRegression(max_iter=1000), param_grid_lr, cv=5)\n",
    "# grid_search_knn = GridSearchCV(KNeighborsClassifier(), param_grid_knn, cv=5)\n",
    "# grid_search_dt = GridSearchCV(DecisionTreeClassifier(random_state=42), param_grid_dt, cv=5)\n",
    "# grid_search_gb = GridSearchCV(GradientBoostingClassifier(random_state=42), param_grid_gb, cv=5)\n",
    "# grid_search_rf = GridSearchCV(RandomForestClassifier(random_state=42), param_grid_rf, cv=5)\n",
    "# grid_search_ab = GridSearchCV(AdaBoostClassifier(random_state=42), param_grid_ab, cv=5)\n",
    "\n",
    "# grid_search_lr.fit(X_train, y_train)\n",
    "# grid_search_knn.fit(X_train, y_train)\n",
    "# grid_search_dt.fit(X_train, y_train)\n",
    "# grid_search_gb.fit(X_train, y_train)\n",
    "# grid_search_rf.fit(X_train, y_train)\n",
    "# grid_search_ab.fit(X_train, y_train)\n",
    "\n",
    "# print(f'Best parameters for Logistic Regression: {grid_search_lr.best_params_}')\n",
    "# print(f'Best parameters for kNN: {grid_search_knn.best_params_}')\n",
    "# print(f'Best parameters for Decision Tree: {grid_search_dt.best_params_}')\n",
    "# print(f'Best parameters for Gradient Boosting: {grid_search_gb.best_params_}')\n",
    "# print(f'Best parameters for Random Forest: {grid_search_rf.best_params_}')\n",
    "# print(f'Best parameters for AdaBoost: {grid_search_ab.best_params_}')\n",
    "\n",
    "# Best parameters for Logistic Regression: {'C': 0.1, 'penalty': 'l1', 'solver': 'liblinear'}\n",
    "# Best parameters for kNN: {'n_neighbors': 10}\n",
    "# Best parameters for Decision Tree: {'max_depth': 5, 'min_samples_split': 2}\n",
    "# Best parameters for Gradient Boosting: {'learning_rate': 0.1, 'n_estimators': 200}\n",
    "# Best parameters for Random Forest: {'max_depth': 10, 'n_estimators': 200}\n",
    "# Best parameters for AdaBoost: {'learning_rate': 1, 'n_estimators': 200}"
   ]
  },
  {
   "cell_type": "code",
   "execution_count": 17,
   "id": "79349370",
   "metadata": {},
   "outputs": [],
   "source": [
    "lr = LogisticRegression(max_iter=1000)\n",
    "knn = KNeighborsClassifier(n_neighbors=5)\n",
    "dt = DecisionTreeClassifier(random_state=42)\n",
    "gb = GradientBoostingClassifier(random_state=42)\n",
    "rf = RandomForestClassifier(random_state=42)\n",
    "ab = AdaBoostClassifier(random_state=42)"
   ]
  },
  {
   "cell_type": "code",
   "execution_count": null,
   "id": "4698f50b",
   "metadata": {},
   "outputs": [],
   "source": [
    "voting_clf = VotingClassifier(\n",
    "    estimators=[\n",
    "        (\"lr\", lr),\n",
    "        (\"knn\", knn),\n",
    "        (\"dt\", dt),\n",
    "        (\"gb\", gb),\n",
    "        (\"rf\", rf),\n",
    "        (\"ab\", ab),\n",
    "    ],\n",
    "    voting=\"hard\",\n",
    ")\n",
    "voting_clf.fit(X_train, y_train)\n",
    "predictions = voting_clf.predict(X_test)"
   ]
  },
  {
   "cell_type": "code",
   "execution_count": 20,
   "id": "16563a79",
   "metadata": {},
   "outputs": [
    {
     "name": "stdout",
     "output_type": "stream",
     "text": [
      "Ensemble Model Accuracy: 0.8367676043719764\n"
     ]
    }
   ],
   "source": [
    "from sklearn.metrics import accuracy_score\n",
    "\n",
    "accuracy = accuracy_score(y_test, predictions)\n",
    "print(f\"Ensemble Model Accuracy: {accuracy}\")\n",
    "\n",
    "# Ensemble Model Accuracy: 0.8367676043719764\n",
    "# Ensemble Model Accuracy With Grid Search: 0.8353341695036732"
   ]
  },
  {
   "cell_type": "code",
   "execution_count": 21,
   "id": "5db200fa",
   "metadata": {},
   "outputs": [
    {
     "name": "stdout",
     "output_type": "stream",
     "text": [
      "Accuracy from loaded model: 0.8367676043719764\n",
      "\n",
      "Classification Report:\n",
      "\n",
      "              precision    recall  f1-score   support\n",
      "\n",
      "           0       0.81      0.79      0.80      2343\n",
      "           1       0.85      0.87      0.86      3238\n",
      "\n",
      "    accuracy                           0.84      5581\n",
      "   macro avg       0.83      0.83      0.83      5581\n",
      "weighted avg       0.84      0.84      0.84      5581\n",
      "\n"
     ]
    }
   ],
   "source": [
    "import joblib\n",
    "from sklearn.metrics import accuracy_score, classification_report\n",
    "\n",
    "joblib.dump(voting_clf, \"ensemble_model.joblib\")\n",
    "loaded_model = joblib.load(\"ensemble_model.joblib\")\n",
    "predictions = loaded_model.predict(X_test)\n",
    "\n",
    "accuracy = accuracy_score(y_test, predictions)\n",
    "print(f\"Accuracy from loaded model: {accuracy}\")\n",
    "\n",
    "print(\"\\nClassification Report:\\n\")\n",
    "print(classification_report(y_test, predictions))"
   ]
  }
 ],
 "metadata": {
  "kernelspec": {
   "display_name": ".venv",
   "language": "python",
   "name": "python3"
  },
  "language_info": {
   "codemirror_mode": {
    "name": "ipython",
    "version": 3
   },
   "file_extension": ".py",
   "mimetype": "text/x-python",
   "name": "python",
   "nbconvert_exporter": "python",
   "pygments_lexer": "ipython3",
   "version": "3.13.1"
  }
 },
 "nbformat": 4,
 "nbformat_minor": 5
}
